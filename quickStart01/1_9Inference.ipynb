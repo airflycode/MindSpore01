{
 "cells": [
  {
   "cell_type": "markdown",
   "metadata": {},
   "source": [
    "## 端侧推理\n",
    "[教程地址](https://www.bilibili.com/video/BV1LR4y1p7D8/?spm_id_from=trigger_reload)\n",
    "[推理与预测](https://zhuanlan.zhihu.com/p/206399469)\n",
    "\n",
    "### 昇腾AI处理器推理 -- 需要Ascend处理器环境\n",
    "昇腾(Ascend)AI处理器是面向边缘场景的高能效高集成度AI处理器。可以实现图像、视频等多种数据分析与推理计算，\n",
    "\n",
    "可广泛用于智能监控、机器人、无人机、视频服务器等场景。本节我们来学习如何在昇腾A处理器上使用MindSpore执行推理。\n",
    "\n",
    "##### 推理代码介绍\n",
    "\n",
    "首先创建目录放置推理代码工程，\n",
    "\n",
    "例如/home/HwHiAiUser/mindspore sample/ascend910 resnet50 preprocess sample，\n",
    "\n",
    "可以从官网示例下载样例代码，\n",
    "\n",
    "model目录用于存放上述导出的MindIR模型文件， test data目录用于存放待分类的图片，推理 \n",
    "\n",
    "代码工程目录结构如下:"
   ]
  },
  {
   "cell_type": "code",
   "execution_count": null,
   "metadata": {},
   "outputs": [],
   "source": []
  },
  {
   "cell_type": "markdown",
   "metadata": {},
   "source": [
    "### 移动设备推理\n",
    "\n",
    "![](1651324744000.png)\n",
    "\n"
   ]
  }
 ],
 "metadata": {
  "interpreter": {
   "hash": "e203e762bfffed2ed95f356b7746f45c38e9111b20c3e823e88c83c42bbc40aa"
  },
  "kernelspec": {
   "display_name": "Python 3.7.5 ('mindsp161')",
   "language": "python",
   "name": "python3"
  },
  "language_info": {
   "name": "python",
   "version": "3.7.5"
  },
  "orig_nbformat": 4
 },
 "nbformat": 4,
 "nbformat_minor": 2
}
