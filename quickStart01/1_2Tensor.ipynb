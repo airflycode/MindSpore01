{
 "cells": [
  {
   "cell_type": "markdown",
   "metadata": {},
   "source": [
    "张量 Tensor 是mindspore 网络运算中的基本数据结构\n",
    "导入需要的模块和接口"
   ]
  },
  {
   "cell_type": "code",
   "execution_count": 1,
   "metadata": {},
   "outputs": [],
   "source": [
    "import numpy as np\n",
    "from mindspore import Tensor,context\n",
    "from mindspore import dtype as mstype\n",
    "context.set_context(mode = context.GRAPH_MODE,device_target = \"CPU\")#设置为图模式，指定CPU进行运算"
   ]
  },
  {
   "cell_type": "markdown",
   "metadata": {},
   "source": [
    "## 初始化张量\n",
    "初始化方式很多： 构造张量的时候 支持传入Tensor、float、int、bool、tuple、list和Numpy.array类型\n",
    " - 根据数据直接生成\n",
    "可以根据数据直接创建张量，数据类型可以设置或者自动推断"
   ]
  },
  {
   "cell_type": "code",
   "execution_count": 3,
   "metadata": {},
   "outputs": [
    {
     "name": "stdout",
     "output_type": "stream",
     "text": [
      "datatype of x ::<class 'mindspore.common.tensor.Tensor'>\n",
      "value of x ::0.1\n"
     ]
    }
   ],
   "source": [
    "x = Tensor(0.1)\n",
    "print(\"datatype of x : {}\".format(type(x)))\n",
    "print(\"value of x : {}\".format(x))"
   ]
  },
  {
   "cell_type": "code",
   "execution_count": 4,
   "metadata": {},
   "outputs": [
    {
     "name": "stdout",
     "output_type": "stream",
     "text": [
      "datatype of x <class 'mindspore.common.tensor.Tensor'>\n",
      "value of x [1 0 1 0]\n"
     ]
    }
   ],
   "source": [
    "arr = np.array([1,0,1,0])\n",
    "x_np = Tensor(arr)\n",
    "print(\"datatype of x : {}\".format(type(x_np)))\n",
    "print(\"value of x : {}\".format(x_np))"
   ]
  },
  {
   "cell_type": "markdown",
   "metadata": {},
   "source": [
    "### 继承另一个张量的属性，形成新的张量  （大小的属性一致）"
   ]
  },
  {
   "cell_type": "code",
   "execution_count": 6,
   "metadata": {},
   "outputs": [
    {
     "name": "stdout",
     "output_type": "stream",
     "text": [
      "[[1 2]\n",
      " [3 4]]\n",
      "datatype of output : <class 'mindspore.common.tensor.Tensor'>\n",
      "[[1 1]\n",
      " [1 1]]\n"
     ]
    }
   ],
   "source": [
    "from mindspore import ops\n",
    "oneslike = ops.OnesLike()\n",
    "x = Tensor(np.array([[1,2],[3,4]]).astype(np.int32))\n",
    "print(x)\n",
    "output = oneslike(x) # 获取大小一致的一个张量\n",
    "print(\"datatype of output : {}\".format(type(output)))\n",
    "print(output) "
   ]
  },
  {
   "cell_type": "markdown",
   "metadata": {},
   "source": [
    "### 指定大小 （shape）元组进行大小恒定的张量"
   ]
  },
  {
   "cell_type": "code",
   "execution_count": 7,
   "metadata": {},
   "outputs": [
    {
     "name": "stdout",
     "output_type": "stream",
     "text": [
      "[[1. 1.]\n",
      " [1. 1.]]\n",
      "[[0. 0.]\n",
      " [0. 0.]]\n"
     ]
    }
   ],
   "source": [
    "\n",
    "from mindspore.ops import operations as opts\n",
    "shape = (2,2)\n",
    "ones = opts.Ones()\n",
    "output = ones(shape,mstype.float32)\n",
    "print(output)\n",
    "\n",
    "zeros = ops.Zeros()\n",
    "output = zeros(shape,mstype.float32)\n",
    "print(output)\n"
   ]
  },
  {
   "cell_type": "markdown",
   "metadata": {},
   "source": [
    "## 张量的属性\n",
    "- shape 形状 是一个tuple\n",
    "- dtype 是mindspore的数据类型"
   ]
  },
  {
   "cell_type": "code",
   "execution_count": 10,
   "metadata": {},
   "outputs": [
    {
     "name": "stdout",
     "output_type": "stream",
     "text": [
      "datatype of x : Int32\n",
      "shape of x : (2, 1)\n"
     ]
    }
   ],
   "source": [
    "x = Tensor([[4],[5]])\n",
    "print(\"datatype of x : {}\".format(x.dtype))\n",
    "print(\"shape of x : {}\".format(x.shape))"
   ]
  },
  {
   "cell_type": "markdown",
   "metadata": {},
   "source": [
    "## 张量运算\n",
    "基本的算术运算、线性代数运算，矩阵处理（转置、标引，切片），采样"
   ]
  },
  {
   "cell_type": "code",
   "execution_count": 18,
   "metadata": {},
   "outputs": [
    {
     "name": "stdout",
     "output_type": "stream",
     "text": [
      "[[1 2 3]\n",
      " [4 5 6]]\n",
      "[1 2 3]\n",
      "[3 6]\n",
      "[2 5]\n",
      "[1 4]\n",
      "[2 5]\n",
      "[2 5]\n"
     ]
    }
   ],
   "source": [
    "#索引切片\n",
    "t = Tensor(np.array([[1,2,3],[4,5,6]]))\n",
    "print(t[:2])\n",
    "print(t[0])\n",
    "print(t[...,-1])\n",
    "print(t[...,-2])\n",
    "print(t[:,0])\n",
    "print(t[:,1])\n",
    "print(t[...,1])"
   ]
  },
  {
   "cell_type": "code",
   "execution_count": 19,
   "metadata": {},
   "outputs": [
    {
     "name": "stdout",
     "output_type": "stream",
     "text": [
      "[[0 1]\n",
      " [2 3]\n",
      " [4 5]\n",
      " [6 7]]\n"
     ]
    }
   ],
   "source": [
    "# 使用Concat 连接 ，相当于 vstack（二维时） 在给定方向上连接 总维度不变\n",
    " \n",
    "d1 = Tensor(np.array([[0,1],[2,3]]))\n",
    "d2 = Tensor(np.array([[4,5],[6,7]]))\n",
    "op = ops.Concat()\n",
    "output = op((d1,d2))\n",
    "print(output)"
   ]
  },
  {
   "cell_type": "code",
   "execution_count": 20,
   "metadata": {},
   "outputs": [
    {
     "name": "stdout",
     "output_type": "stream",
     "text": [
      "[[[0 1]\n",
      "  [2 3]]\n",
      "\n",
      " [[4 5]\n",
      "  [6 7]]]\n"
     ]
    }
   ],
   "source": [
    "# 使用 Stack 从另一个维度上讲两个两张合并起来 总维度+1\n",
    "d1 = Tensor(np.array([[0,1],[2,3]]))\n",
    "d2 = Tensor(np.array([[4,5],[6,7]]))\n",
    "op = ops.Stack()\n",
    "output = op((d1,d2))\n",
    "print(output)"
   ]
  },
  {
   "cell_type": "code",
   "execution_count": 22,
   "metadata": {},
   "outputs": [
    {
     "name": "stdout",
     "output_type": "stream",
     "text": [
      "[[ 0  5]\n",
      " [12 21]]\n"
     ]
    }
   ],
   "source": [
    "# 乘法 Mul\n",
    "d1 = Tensor(np.array([[0,1],[2,3]]))\n",
    "d2 = Tensor(np.array([[4,5],[6,7]]))\n",
    "op = ops.Mul()\n",
    "output = op(d1,d2)\n",
    "print(output)"
   ]
  },
  {
   "cell_type": "markdown",
   "metadata": {},
   "source": [
    "### 与Numpy互相转换"
   ]
  },
  {
   "cell_type": "code",
   "execution_count": 25,
   "metadata": {},
   "outputs": [
    {
     "name": "stdout",
     "output_type": "stream",
     "text": [
      "<class 'mindspore.common.tensor.Tensor'>\n",
      "<class 'numpy.ndarray'>\n"
     ]
    }
   ],
   "source": [
    "zeros = ops.Zeros()\n",
    "output = zeros((2,2),mstype.int32)\n",
    "print(type(output))\n",
    "n_output = output.asnumpy()\n",
    "print(type(n_output))"
   ]
  }
 ],
 "metadata": {
  "interpreter": {
   "hash": "e203e762bfffed2ed95f356b7746f45c38e9111b20c3e823e88c83c42bbc40aa"
  },
  "kernelspec": {
   "display_name": "Python 3.7.5 ('mindsp161')",
   "language": "python",
   "name": "python3"
  },
  "language_info": {
   "codemirror_mode": {
    "name": "ipython",
    "version": 3
   },
   "file_extension": ".py",
   "mimetype": "text/x-python",
   "name": "python",
   "nbconvert_exporter": "python",
   "pygments_lexer": "ipython3",
   "version": "3.7.5"
  },
  "orig_nbformat": 4
 },
 "nbformat": 4,
 "nbformat_minor": 2
}
