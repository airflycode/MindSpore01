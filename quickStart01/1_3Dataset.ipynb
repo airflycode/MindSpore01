{
 "cells": [
  {
   "cell_type": "markdown",
   "metadata": {},
   "source": [
    "## 加载数据集\n",
    "以MNIST为例,这些数据集是已经有的，在mindspore中基于特殊接口实现了其调用"
   ]
  },
  {
   "cell_type": "code",
   "execution_count": 2,
   "metadata": {},
   "outputs": [],
   "source": [
    "import mindspore.dataset as ds \n",
    "import os\n",
    "DATA_DIR = \"./datasets/MNIST_Data/train\"\n",
    "\n",
    "if not os.path.exists(DATA_DIR):\n",
    "    os.makedirs(DATA_DIR)\n",
    "#采样器\n",
    "sampler = ds.SequentialSampler(num_samples=5)\n",
    "# dataset = ds.Cifar100Dataset(DATA_DIR,sampler=sampler)\n",
    "dataset = ds.MnistDataset(DATA_DIR,sampler=sampler) #这个是MNIST数据集"
   ]
  },
  {
   "cell_type": "markdown",
   "metadata": {},
   "source": [
    "## 迭代数据集\n",
    "使用 `create_dict_iterator` 创建数据迭代器 迭代访问数据"
   ]
  },
  {
   "cell_type": "code",
   "execution_count": 3,
   "metadata": {},
   "outputs": [
    {
     "name": "stdout",
     "output_type": "stream",
     "text": [
      "(28, 28, 1)\n",
      "5\n",
      "(28, 28, 1)\n",
      "0\n",
      "(28, 28, 1)\n",
      "4\n",
      "(28, 28, 1)\n",
      "1\n",
      "(28, 28, 1)\n",
      "9\n"
     ]
    }
   ],
   "source": [
    "for data in dataset.create_dict_iterator():\n",
    "    # print(data)\n",
    "    print(data['image'].shape)\n",
    "    print(data['label'])\n",
    "    "
   ]
  },
  {
   "cell_type": "markdown",
   "metadata": {},
   "source": [
    "## 自定义数据集\n",
    "对于mindspore现在不支持直接加载的数据集，可以使用自己构造一个数据集类 然后使用 `GeneratorDataset`接口实现自定义方式的数据加载"
   ]
  },
  {
   "cell_type": "code",
   "execution_count": 4,
   "metadata": {},
   "outputs": [],
   "source": [
    "import numpy as np\n",
    "np.random.seed(50)\n",
    "\n",
    "class GetDatasetGenerator:\n",
    "    def __init__(self):\n",
    "        self.data = np.random.sample((5,2))\n",
    "        self.label = np.random.sample((5,1))\n",
    "    \n",
    "    def __getitem__(self,index):\n",
    "        return self.data[index],self.label[index]\n",
    "    \n",
    "    def __len__(self):\n",
    "        return len(self.data)\n"
   ]
  },
  {
   "cell_type": "markdown",
   "metadata": {},
   "source": [
    "init进行初始化\n",
    "getitem获取索引下的对象\n",
    "len获取样本数量\n",
    "\n",
    "使用 `GeneratorDataset` 接口进行加载并访问数据集样本"
   ]
  },
  {
   "cell_type": "code",
   "execution_count": 5,
   "metadata": {},
   "outputs": [
    {
     "name": "stdout",
     "output_type": "stream",
     "text": [
      "<class 'mindspore.dataset.engine.datasets_user_defined.GeneratorDataset'>\n",
      "[0.49460165 0.2280831 ] [0.3465412]\n",
      "[0.25547392 0.39632991] [0.35176482]\n",
      "[0.3773151  0.99657423] [0.14546686]\n",
      "[0.4081972  0.77189399] [0.97266468]\n",
      "[0.76053669 0.31000935] [0.90917844]\n"
     ]
    }
   ],
   "source": [
    "dataset_generator = GetDatasetGenerator()\n",
    "dataset1 = ds.GeneratorDataset(dataset_generator,[\"data\",\"label\"],shuffle = False)\n",
    "print(type(dataset1))\n",
    "for data in dataset1.create_dict_iterator():\n",
    "    print(data[\"data\"],data[\"label\"])"
   ]
  },
  {
   "cell_type": "markdown",
   "metadata": {},
   "source": [
    "## 数据处理与数据增强\n",
    "mindspore提供了数据集接口具备常用的数据处理方法，用户只需调用接口函数即可进行数据处理\n",
    "\n",
    "下面的样例中先加你个数据集随机打乱顺序，然后将样本两两组成一个批次"
   ]
  },
  {
   "cell_type": "code",
   "execution_count": 6,
   "metadata": {},
   "outputs": [
    {
     "name": "stdout",
     "output_type": "stream",
     "text": [
      "data:[[0.25547392 0.39632991]\n",
      " [0.3773151  0.99657423]]\n",
      "label:[[0.35176482]\n",
      " [0.14546686]]\n",
      "data:[[0.49460165 0.2280831 ]\n",
      " [0.76053669 0.31000935]]\n",
      "label:[[0.3465412 ]\n",
      " [0.90917844]]\n",
      "data:[[0.4081972  0.77189399]]\n",
      "label:[[0.97266468]]\n"
     ]
    }
   ],
   "source": [
    "ds.config.set_seed(50)\n",
    "\n",
    "#随机打乱数据顺序\n",
    "dataset1 = dataset1.shuffle(buffer_size = 4) # buffer_size 数据集中及逆行shuffle缓存区的大小 不可以超过数据集的大小\n",
    "#对数据进行分批处理\n",
    "dataset1 = dataset1.batch(batch_size = 2) # 每组包含的数据个数 \n",
    "\n",
    "for data in  dataset1.create_dict_iterator():\n",
    "    print(\"data:{}\".format(data[\"data\"]))\n",
    "    print(\"label:{}\".format(data[\"label\"]))"
   ]
  },
  {
   "cell_type": "markdown",
   "metadata": {},
   "source": [
    "## 数据增强\n",
    "当数据集过小或者样本场景单一等问题，都会影响模型的训练效果\n",
    "\n",
    "用户可以通过数据增强操作扩充样本多样性，从而提升模型的泛化能力\n",
    "\n",
    "如下案例中使用`mindspore.dataset.vision.c_transforms`模块中的算子对MNIST数据集进行数据增强\n",
    "\n",
    "导入c_transforms模块 加载MNIST数据集"
   ]
  },
  {
   "cell_type": "code",
   "execution_count": 9,
   "metadata": {},
   "outputs": [
    {
     "name": "stdout",
     "output_type": "stream",
     "text": [
      "(28, 28, 1)\n"
     ]
    },
    {
     "data": {
      "image/png": "[encoded data removed]",
      "text/plain": [
       "<Figure size 432x288 with 1 Axes>"
      ]
     },
     "metadata": {
      "needs_background": "light"
     },
     "output_type": "display_data"
    }
   ],
   "source": [
    "import matplotlib.pyplot as plt\n",
    "from mindspore.dataset.vision import Inter\n",
    "import mindspore.dataset.vision.c_transforms as c_vision\n",
    "DATA_DIR = \"./datasets/MNIST_Data/train\"\n",
    "dataset = ds.MnistDataset(DATA_DIR,num_samples=0,shuffle=False)\n",
    "\n",
    "#查看数据原图\n",
    "mnist_it = dataset.create_dict_iterator()\n",
    "data = next(mnist_it)\n",
    "print(data['image'].shape)\n",
    "plt.imshow(data['image'].asnumpy().squeeze(),cmap=plt.gray())\n",
    "plt.title(data['label'].asnumpy(),fontsize = 20 )\n",
    "plt.show()\n",
    "\n"
   ]
  },
  {
   "cell_type": "markdown",
   "metadata": {},
   "source": [
    "定义数据增强算子\n",
    "\n",
    "对数据进行`resize`和`RandomCrop`操作\n",
    "\n",
    "通过map映射将其插入 数据处理管道"
   ]
  },
  {
   "cell_type": "code",
   "execution_count": 12,
   "metadata": {},
   "outputs": [],
   "source": [
    "resize_op = c_vision.Resize(size = (200,200),interpolation=Inter.LINEAR) #Inter 用于插值 线性插值运算\n",
    "crop_op = c_vision.RandomCrop(150) # 150*150大小的区域crop\n",
    "transforms_list = [resize_op,crop_op]\n",
    "mnist_dataset = dataset.map(operations=transforms_list,input_columns=['image'])"
   ]
  },
  {
   "cell_type": "code",
   "execution_count": 13,
   "metadata": {},
   "outputs": [
    {
     "name": "stdout",
     "output_type": "stream",
     "text": [
      "(150, 150, 1)\n"
     ]
    },
    {
     "data": {
      "image/png": "[encoded data removed]",
      "text/plain": [
       "<Figure size 432x288 with 1 Axes>"
      ]
     },
     "metadata": {
      "needs_background": "light"
     },
     "output_type": "display_data"
    }
   ],
   "source": [
    "#查看数据增强结果\n",
    "mnist_it = mnist_dataset.create_dict_iterator()\n",
    "data = next(mnist_it)\n",
    "print(data['image'].shape)\n",
    "plt.imshow(data['image'].asnumpy().squeeze(),cmap=plt.gray())\n",
    "plt.title(data['label'].asnumpy(),fontsize =20 )\n",
    "plt.show()"
   ]
  }
 ],
 "metadata": {
  "interpreter": {
   "hash": "a8f61be024eba58adef938c9aa1e29e02cb3dece83a5348b1a2dafd16a070453"
  },
  "kernelspec": {
   "display_name": "Python 3.9.7 ('base')",
   "language": "python",
   "name": "python3"
  },
  "language_info": {
   "codemirror_mode": {
    "name": "ipython",
    "version": 3
   },
   "file_extension": ".py",
   "mimetype": "text/x-python",
   "name": "python",
   "nbconvert_exporter": "python",
   "pygments_lexer": "ipython3",
   "version": "3.7.5"
  },
  "orig_nbformat": 4
 },
 "nbformat": 4,
 "nbformat_minor": 2
}
